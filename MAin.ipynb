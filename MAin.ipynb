{
  "nbformat": 4,
  "nbformat_minor": 0,
  "metadata": {
    "colab": {
      "provenance": []
    },
    "kernelspec": {
      "name": "python3",
      "display_name": "Python 3"
    },
    "language_info": {
      "name": "python"
    }
  },
  "cells": [
    {
      "cell_type": "code",
      "execution_count": 1,
      "metadata": {
        "id": "GmBgdKehl6FH",
        "colab": {
          "base_uri": "https://localhost:8080/"
        },
        "outputId": "083d0628-36eb-47ab-d40e-e894ae868925"
      },
      "outputs": [
        {
          "output_type": "stream",
          "name": "stdout",
          "text": [
            "Looking in indexes: https://pypi.org/simple, https://us-python.pkg.dev/colab-wheels/public/simple/\n",
            "Requirement already satisfied: pydotplus in /usr/local/lib/python3.8/dist-packages (2.0.2)\n",
            "Requirement already satisfied: pyparsing>=2.0.1 in /usr/local/lib/python3.8/dist-packages (from pydotplus) (3.0.9)\n",
            "Looking in indexes: https://pypi.org/simple, https://us-python.pkg.dev/colab-wheels/public/simple/\n",
            "Collecting gTTS\n",
            "  Downloading gTTS-2.3.0-py3-none-any.whl (26 kB)\n",
            "Collecting six~=1.16.0\n",
            "  Downloading six-1.16.0-py2.py3-none-any.whl (11 kB)\n",
            "Collecting click~=8.1.3\n",
            "  Downloading click-8.1.3-py3-none-any.whl (96 kB)\n",
            "\u001b[2K     \u001b[90m━━━━━━━━━━━━━━━━━━━━━━━━━━━━━━━━━━━━━━━━\u001b[0m \u001b[32m96.6/96.6 KB\u001b[0m \u001b[31m8.5 MB/s\u001b[0m eta \u001b[36m0:00:00\u001b[0m\n",
            "\u001b[?25hCollecting requests~=2.28.0\n",
            "  Downloading requests-2.28.1-py3-none-any.whl (62 kB)\n",
            "\u001b[2K     \u001b[90m━━━━━━━━━━━━━━━━━━━━━━━━━━━━━━━━━━━━━━━━\u001b[0m \u001b[32m62.8/62.8 KB\u001b[0m \u001b[31m5.1 MB/s\u001b[0m eta \u001b[36m0:00:00\u001b[0m\n",
            "\u001b[?25hRequirement already satisfied: idna<4,>=2.5 in /usr/local/lib/python3.8/dist-packages (from requests~=2.28.0->gTTS) (2.10)\n",
            "Requirement already satisfied: charset-normalizer<3,>=2 in /usr/local/lib/python3.8/dist-packages (from requests~=2.28.0->gTTS) (2.1.1)\n",
            "Requirement already satisfied: urllib3<1.27,>=1.21.1 in /usr/local/lib/python3.8/dist-packages (from requests~=2.28.0->gTTS) (1.24.3)\n",
            "Requirement already satisfied: certifi>=2017.4.17 in /usr/local/lib/python3.8/dist-packages (from requests~=2.28.0->gTTS) (2022.12.7)\n",
            "Installing collected packages: six, requests, click, gTTS\n",
            "  Attempting uninstall: six\n",
            "    Found existing installation: six 1.15.0\n",
            "    Uninstalling six-1.15.0:\n",
            "      Successfully uninstalled six-1.15.0\n",
            "  Attempting uninstall: requests\n",
            "    Found existing installation: requests 2.25.1\n",
            "    Uninstalling requests-2.25.1:\n",
            "      Successfully uninstalled requests-2.25.1\n",
            "  Attempting uninstall: click\n",
            "    Found existing installation: click 7.1.2\n",
            "    Uninstalling click-7.1.2:\n",
            "      Successfully uninstalled click-7.1.2\n",
            "\u001b[31mERROR: pip's dependency resolver does not currently take into account all the packages that are installed. This behaviour is the source of the following dependency conflicts.\n",
            "ipython 7.9.0 requires jedi>=0.10, which is not installed.\n",
            "flask 1.1.4 requires click<8.0,>=5.1, but you have click 8.1.3 which is incompatible.\u001b[0m\u001b[31m\n",
            "\u001b[0mSuccessfully installed click-8.1.3 gTTS-2.3.0 requests-2.28.1 six-1.16.0\n"
          ]
        }
      ],
      "source": [
        "!pip install pydotplus\n",
        "!pip install gTTS\n",
        "import matplotlib.pyplot as plt\n",
        "import pydotplus\n",
        "from IPython.display import display, Image\n",
        "import matplotlib.pyplot as plt\n",
        "from gtts import gTTS\n",
        "import IPython.display as ipd\n",
        "from requests import get  # to make GET request"
      ]
    },
    {
      "cell_type": "code",
      "source": [
        "!pip install roboflow\n",
        "\n",
        "from roboflow import Roboflow\n",
        "rf = Roboflow(api_key=\"GEmyku3lcfnR5MjWDq61\")\n",
        "project = rf.workspace(\"ya3333\").project(\"egypt-tswlf\")\n",
        "dataset = project.version(1).download(\"yolov7\")"
      ],
      "metadata": {
        "id": "sU-BKoC1l9xU",
        "colab": {
          "base_uri": "https://localhost:8080/",
          "height": 1000
        },
        "outputId": "19e86d06-49b7-4118-94ee-c516244f86d1"
      },
      "execution_count": 2,
      "outputs": [
        {
          "output_type": "stream",
          "name": "stdout",
          "text": [
            "Looking in indexes: https://pypi.org/simple, https://us-python.pkg.dev/colab-wheels/public/simple/\n",
            "Collecting roboflow\n",
            "  Downloading roboflow-0.2.22-py3-none-any.whl (45 kB)\n",
            "\u001b[2K     \u001b[90m━━━━━━━━━━━━━━━━━━━━━━━━━━━━━━━━━━━━━━━━\u001b[0m \u001b[32m45.7/45.7 KB\u001b[0m \u001b[31m2.9 MB/s\u001b[0m eta \u001b[36m0:00:00\u001b[0m\n",
            "\u001b[?25hRequirement already satisfied: six in /usr/local/lib/python3.8/dist-packages (from roboflow) (1.16.0)\n",
            "Requirement already satisfied: certifi==2022.12.7 in /usr/local/lib/python3.8/dist-packages (from roboflow) (2022.12.7)\n",
            "Requirement already satisfied: glob2 in /usr/local/lib/python3.8/dist-packages (from roboflow) (0.7)\n",
            "Collecting wget\n",
            "  Downloading wget-3.2.zip (10 kB)\n",
            "  Preparing metadata (setup.py) ... \u001b[?25l\u001b[?25hdone\n",
            "Requirement already satisfied: Pillow>=7.1.2 in /usr/local/lib/python3.8/dist-packages (from roboflow) (7.1.2)\n",
            "Requirement already satisfied: opencv-python-headless>=4.5.1.48 in /usr/local/lib/python3.8/dist-packages (from roboflow) (4.6.0.66)\n",
            "Collecting python-dotenv\n",
            "  Downloading python_dotenv-0.21.0-py3-none-any.whl (18 kB)\n",
            "Requirement already satisfied: tqdm>=4.41.0 in /usr/local/lib/python3.8/dist-packages (from roboflow) (4.64.1)\n",
            "Requirement already satisfied: idna==2.10 in /usr/local/lib/python3.8/dist-packages (from roboflow) (2.10)\n",
            "Requirement already satisfied: numpy>=1.18.5 in /usr/local/lib/python3.8/dist-packages (from roboflow) (1.21.6)\n",
            "Requirement already satisfied: matplotlib in /usr/local/lib/python3.8/dist-packages (from roboflow) (3.2.2)\n",
            "Collecting pyparsing==2.4.7\n",
            "  Downloading pyparsing-2.4.7-py2.py3-none-any.whl (67 kB)\n",
            "\u001b[2K     \u001b[90m━━━━━━━━━━━━━━━━━━━━━━━━━━━━━━━━━━━━━━━━\u001b[0m \u001b[32m67.8/67.8 KB\u001b[0m \u001b[31m7.3 MB/s\u001b[0m eta \u001b[36m0:00:00\u001b[0m\n",
            "\u001b[?25hRequirement already satisfied: python-dateutil in /usr/local/lib/python3.8/dist-packages (from roboflow) (2.8.2)\n",
            "Collecting requests-toolbelt\n",
            "  Downloading requests_toolbelt-0.10.1-py2.py3-none-any.whl (54 kB)\n",
            "\u001b[2K     \u001b[90m━━━━━━━━━━━━━━━━━━━━━━━━━━━━━━━━━━━━━━━━\u001b[0m \u001b[32m54.5/54.5 KB\u001b[0m \u001b[31m5.7 MB/s\u001b[0m eta \u001b[36m0:00:00\u001b[0m\n",
            "\u001b[?25hRequirement already satisfied: chardet==4.0.0 in /usr/local/lib/python3.8/dist-packages (from roboflow) (4.0.0)\n",
            "Requirement already satisfied: kiwisolver>=1.3.1 in /usr/local/lib/python3.8/dist-packages (from roboflow) (1.4.4)\n",
            "Collecting urllib3==1.26.6\n",
            "  Downloading urllib3-1.26.6-py2.py3-none-any.whl (138 kB)\n",
            "\u001b[2K     \u001b[90m━━━━━━━━━━━━━━━━━━━━━━━━━━━━━━━━━━━━━━\u001b[0m \u001b[32m138.5/138.5 KB\u001b[0m \u001b[31m13.8 MB/s\u001b[0m eta \u001b[36m0:00:00\u001b[0m\n",
            "\u001b[?25hCollecting cycler==0.10.0\n",
            "  Downloading cycler-0.10.0-py2.py3-none-any.whl (6.5 kB)\n",
            "Requirement already satisfied: requests in /usr/local/lib/python3.8/dist-packages (from roboflow) (2.28.1)\n",
            "Requirement already satisfied: PyYAML>=5.3.1 in /usr/local/lib/python3.8/dist-packages (from roboflow) (6.0)\n",
            "Requirement already satisfied: charset-normalizer<3,>=2 in /usr/local/lib/python3.8/dist-packages (from requests->roboflow) (2.1.1)\n",
            "Building wheels for collected packages: wget\n",
            "  Building wheel for wget (setup.py) ... \u001b[?25l\u001b[?25hdone\n",
            "  Created wheel for wget: filename=wget-3.2-py3-none-any.whl size=9674 sha256=220ceca90350257a834e86830ef78ee9250af1491fecb98242c55bc36c0d8e15\n",
            "  Stored in directory: /root/.cache/pip/wheels/bd/a8/c3/3cf2c14a1837a4e04bd98631724e81f33f462d86a1d895fae0\n",
            "Successfully built wget\n",
            "Installing collected packages: wget, urllib3, python-dotenv, pyparsing, cycler, requests-toolbelt, roboflow\n",
            "  Attempting uninstall: urllib3\n",
            "    Found existing installation: urllib3 1.24.3\n",
            "    Uninstalling urllib3-1.24.3:\n",
            "      Successfully uninstalled urllib3-1.24.3\n",
            "  Attempting uninstall: pyparsing\n",
            "    Found existing installation: pyparsing 3.0.9\n",
            "    Uninstalling pyparsing-3.0.9:\n",
            "      Successfully uninstalled pyparsing-3.0.9\n",
            "  Attempting uninstall: cycler\n",
            "    Found existing installation: cycler 0.11.0\n",
            "    Uninstalling cycler-0.11.0:\n",
            "      Successfully uninstalled cycler-0.11.0\n",
            "Successfully installed cycler-0.10.0 pyparsing-2.4.7 python-dotenv-0.21.0 requests-toolbelt-0.10.1 roboflow-0.2.22 urllib3-1.26.6 wget-3.2\n"
          ]
        },
        {
          "output_type": "display_data",
          "data": {
            "application/vnd.colab-display-data+json": {
              "pip_warning": {
                "packages": [
                  "cycler",
                  "pyparsing",
                  "urllib3"
                ]
              }
            }
          },
          "metadata": {}
        },
        {
          "output_type": "stream",
          "name": "stdout",
          "text": [
            "loading Roboflow workspace...\n",
            "loading Roboflow project...\n",
            "Downloading Dataset Version Zip in egypt-1 to yolov7pytorch: 100% [82339573 / 82339573] bytes\n"
          ]
        },
        {
          "output_type": "stream",
          "name": "stderr",
          "text": [
            "Extracting Dataset Version Zip to egypt-1 in yolov7pytorch:: 100%|██████████| 2090/2090 [00:01<00:00, 1681.07it/s]\n"
          ]
        }
      ]
    },
    {
      "cell_type": "code",
      "source": [
        "model = project.version(1).model"
      ],
      "metadata": {
        "id": "Tf4ANSgrFVju"
      },
      "execution_count": 3,
      "outputs": []
    },
    {
      "cell_type": "code",
      "source": [
        "import cv2\n",
        "img = cv2.imread(\"/content/xyz83.jpg\")"
      ],
      "metadata": {
        "id": "l-irqiQYFYrp"
      },
      "execution_count": 4,
      "outputs": []
    },
    {
      "cell_type": "code",
      "source": [
        "img = cv2.resize(img, (512,512))"
      ],
      "metadata": {
        "id": "TXnkEhNHFYpC"
      },
      "execution_count": 5,
      "outputs": []
    },
    {
      "cell_type": "code",
      "source": [
        "result = model.predict(img, confidence=50, overlap=50).json()"
      ],
      "metadata": {
        "id": "Je-VYoW2FYmg"
      },
      "execution_count": 6,
      "outputs": []
    },
    {
      "cell_type": "code",
      "source": [
        "predictions = result[\"predictions\"][0]\n",
        "output_img = predictions[\"image_path\"]\n",
        "x,y,w,h = predictions[\"x\"], predictions[\"y\"], predictions[\"width\"], predictions[\"height\"]"
      ],
      "metadata": {
        "id": "gj5GzOEMFYkH"
      },
      "execution_count": 7,
      "outputs": []
    },
    {
      "cell_type": "code",
      "source": [
        "result"
      ],
      "metadata": {
        "colab": {
          "base_uri": "https://localhost:8080/"
        },
        "id": "Sgo52biVG0mp",
        "outputId": "f3826b16-7318-4ecc-aae1-026d284aac9b"
      },
      "execution_count": 8,
      "outputs": [
        {
          "output_type": "execute_result",
          "data": {
            "text/plain": [
              "{'predictions': [{'x': 291.0,\n",
              "   'y': 140.0,\n",
              "   'width': 72.0,\n",
              "   'height': 84.0,\n",
              "   'confidence': 0.9202511310577393,\n",
              "   'class': 'plate',\n",
              "   'image_path': array([[[0, 0, 0],\n",
              "           [0, 0, 0],\n",
              "           [0, 0, 0],\n",
              "           ...,\n",
              "           [0, 0, 0],\n",
              "           [0, 0, 0],\n",
              "           [0, 0, 0]],\n",
              "   \n",
              "          [[0, 0, 0],\n",
              "           [0, 0, 0],\n",
              "           [0, 0, 0],\n",
              "           ...,\n",
              "           [0, 0, 0],\n",
              "           [0, 0, 0],\n",
              "           [0, 0, 0]],\n",
              "   \n",
              "          [[0, 0, 0],\n",
              "           [0, 0, 0],\n",
              "           [0, 0, 0],\n",
              "           ...,\n",
              "           [0, 0, 0],\n",
              "           [0, 0, 0],\n",
              "           [0, 0, 0]],\n",
              "   \n",
              "          ...,\n",
              "   \n",
              "          [[0, 0, 0],\n",
              "           [0, 0, 0],\n",
              "           [0, 0, 0],\n",
              "           ...,\n",
              "           [0, 0, 0],\n",
              "           [0, 0, 0],\n",
              "           [0, 0, 0]],\n",
              "   \n",
              "          [[0, 0, 0],\n",
              "           [0, 0, 0],\n",
              "           [0, 0, 0],\n",
              "           ...,\n",
              "           [0, 0, 0],\n",
              "           [0, 0, 0],\n",
              "           [0, 0, 0]],\n",
              "   \n",
              "          [[0, 0, 0],\n",
              "           [0, 0, 0],\n",
              "           [0, 0, 0],\n",
              "           ...,\n",
              "           [0, 0, 0],\n",
              "           [0, 0, 0],\n",
              "           [0, 0, 0]]], dtype=uint8),\n",
              "   'prediction_type': 'ObjectDetectionModel'}],\n",
              " 'image': {'width': 512, 'height': 512}}"
            ]
          },
          "metadata": {},
          "execution_count": 8
        }
      ]
    },
    {
      "cell_type": "code",
      "source": [
        "x1 = round(x - (w/2))\n",
        "y1 = round(y - (h/2))\n",
        "x2 = round(x + (w/2))\n",
        "y2 = round(y + (h/2))"
      ],
      "metadata": {
        "id": "rScHr5X5FYhK"
      },
      "execution_count": 9,
      "outputs": []
    },
    {
      "cell_type": "code",
      "source": [
        "output_img = img[y1:y2, x1:x2]\n",
        "plt.imshow(output_img)"
      ],
      "metadata": {
        "colab": {
          "base_uri": "https://localhost:8080/",
          "height": 286
        },
        "id": "lK79SYY_FYdS",
        "outputId": "e40c97c1-f61c-47a3-902b-426ff16ff62e"
      },
      "execution_count": 10,
      "outputs": [
        {
          "output_type": "execute_result",
          "data": {
            "text/plain": [
              "<matplotlib.image.AxesImage at 0x7fcc2abd7310>"
            ]
          },
          "metadata": {},
          "execution_count": 10
        },
        {
          "output_type": "display_data",
          "data": {
            "text/plain": [
              "<Figure size 432x288 with 1 Axes>"
            ],
            "image/png": "[encoded data removed]"
          },
          "metadata": {
            "needs_background": "light"
          }
        }
      ]
    },
    {
      "cell_type": "code",
      "source": [
        "from roboflow import Roboflow\n",
        "rf2 = Roboflow(api_key=\"ZK8jie9hxh6VvLZAv5Gw\")\n",
        "project2 = rf2.workspace(\"letters\").project(\"letete\")\n",
        "dataset2 = project2.version(1).download(\"yolov7\")"
      ],
      "metadata": {
        "id": "H9FthU5xFYVR",
        "colab": {
          "base_uri": "https://localhost:8080/"
        },
        "outputId": "7183fb13-024a-45d0-8c40-21d428fccd4e"
      },
      "execution_count": 12,
      "outputs": [
        {
          "output_type": "stream",
          "name": "stdout",
          "text": [
            "loading Roboflow workspace...\n",
            "loading Roboflow project...\n",
            "Downloading Dataset Version Zip in letete-1 to yolov7pytorch: 100% [35266393 / 35266393] bytes\n"
          ]
        },
        {
          "output_type": "stream",
          "name": "stderr",
          "text": [
            "Extracting Dataset Version Zip to letete-1 in yolov7pytorch:: 100%|██████████| 1134/1134 [00:00<00:00, 1157.83it/s]\n"
          ]
        }
      ]
    },
    {
      "cell_type": "code",
      "source": [
        "model2 = project2.version(1).model"
      ],
      "metadata": {
        "id": "ItaIFTNPeLnf"
      },
      "execution_count": 13,
      "outputs": []
    },
    {
      "cell_type": "code",
      "source": [
        "img2 = output_img"
      ],
      "metadata": {
        "id": "s43heUqMeLkr"
      },
      "execution_count": 14,
      "outputs": []
    },
    {
      "cell_type": "code",
      "source": [
        "img2 = cv2.resize(img2, (512,512))"
      ],
      "metadata": {
        "id": "ZkvuFV2reLiE"
      },
      "execution_count": 15,
      "outputs": []
    },
    {
      "cell_type": "code",
      "source": [
        "result2 = model2.predict(img2, confidence=40, overlap=50).json()"
      ],
      "metadata": {
        "id": "3GjsWAVPeLfR"
      },
      "execution_count": 16,
      "outputs": []
    },
    {
      "cell_type": "code",
      "source": [
        "predictions2 = result2[\"predictions\"][0]\n",
        "output_img2 = predictions2[\"image_path\"]\n",
        "x2,y2,w2,h2 = predictions2[\"x\"], predictions2[\"y\"], predictions2[\"width\"], predictions2[\"height\"]"
      ],
      "metadata": {
        "id": "vX7SN0HleLc6"
      },
      "execution_count": 17,
      "outputs": []
    },
    {
      "cell_type": "code",
      "source": [
        "result2"
      ],
      "metadata": {
        "colab": {
          "base_uri": "https://localhost:8080/"
        },
        "id": "vog7bNFdeLad",
        "outputId": "02f9e05a-1b2f-4b4f-a4f6-be8a1440f514"
      },
      "execution_count": 18,
      "outputs": [
        {
          "output_type": "execute_result",
          "data": {
            "text/plain": [
              "{'predictions': [{'x': 43.0,\n",
              "   'y': 312.5,\n",
              "   'width': 52.0,\n",
              "   'height': 183.0,\n",
              "   'confidence': 0.7921195030212402,\n",
              "   'class': '1',\n",
              "   'image_path': array([[[ 34,  36, 118],\n",
              "           [ 34,  36, 118],\n",
              "           [ 34,  36, 118],\n",
              "           ...,\n",
              "           [ 59,  70, 130],\n",
              "           [ 59,  70, 130],\n",
              "           [ 59,  70, 130]],\n",
              "   \n",
              "          [[ 34,  36, 118],\n",
              "           [ 34,  36, 118],\n",
              "           [ 34,  36, 118],\n",
              "           ...,\n",
              "           [ 59,  70, 130],\n",
              "           [ 59,  70, 130],\n",
              "           [ 59,  70, 130]],\n",
              "   \n",
              "          [[ 34,  36, 118],\n",
              "           [ 34,  36, 118],\n",
              "           [ 34,  36, 118],\n",
              "           ...,\n",
              "           [ 59,  70, 130],\n",
              "           [ 59,  70, 130],\n",
              "           [ 59,  70, 130]],\n",
              "   \n",
              "          ...,\n",
              "   \n",
              "          [[ 29,  12, 138],\n",
              "           [ 29,  12, 138],\n",
              "           [ 29,  12, 138],\n",
              "           ...,\n",
              "           [ 84,  91, 182],\n",
              "           [ 84,  91, 182],\n",
              "           [ 84,  91, 182]],\n",
              "   \n",
              "          [[ 29,  12, 138],\n",
              "           [ 29,  12, 138],\n",
              "           [ 29,  12, 138],\n",
              "           ...,\n",
              "           [ 84,  91, 182],\n",
              "           [ 84,  91, 182],\n",
              "           [ 84,  91, 182]],\n",
              "   \n",
              "          [[ 29,  12, 138],\n",
              "           [ 29,  12, 138],\n",
              "           [ 29,  12, 138],\n",
              "           ...,\n",
              "           [ 84,  91, 182],\n",
              "           [ 84,  91, 182],\n",
              "           [ 84,  91, 182]]], dtype=uint8),\n",
              "   'prediction_type': 'ObjectDetectionModel'},\n",
              "  {'x': 98.5,\n",
              "   'y': 322.0,\n",
              "   'width': 65.0,\n",
              "   'height': 180.0,\n",
              "   'confidence': 0.8072962760925293,\n",
              "   'class': '3',\n",
              "   'image_path': array([[[ 34,  36, 118],\n",
              "           [ 34,  36, 118],\n",
              "           [ 34,  36, 118],\n",
              "           ...,\n",
              "           [ 59,  70, 130],\n",
              "           [ 59,  70, 130],\n",
              "           [ 59,  70, 130]],\n",
              "   \n",
              "          [[ 34,  36, 118],\n",
              "           [ 34,  36, 118],\n",
              "           [ 34,  36, 118],\n",
              "           ...,\n",
              "           [ 59,  70, 130],\n",
              "           [ 59,  70, 130],\n",
              "           [ 59,  70, 130]],\n",
              "   \n",
              "          [[ 34,  36, 118],\n",
              "           [ 34,  36, 118],\n",
              "           [ 34,  36, 118],\n",
              "           ...,\n",
              "           [ 59,  70, 130],\n",
              "           [ 59,  70, 130],\n",
              "           [ 59,  70, 130]],\n",
              "   \n",
              "          ...,\n",
              "   \n",
              "          [[ 29,  12, 138],\n",
              "           [ 29,  12, 138],\n",
              "           [ 29,  12, 138],\n",
              "           ...,\n",
              "           [ 84,  91, 182],\n",
              "           [ 84,  91, 182],\n",
              "           [ 84,  91, 182]],\n",
              "   \n",
              "          [[ 29,  12, 138],\n",
              "           [ 29,  12, 138],\n",
              "           [ 29,  12, 138],\n",
              "           ...,\n",
              "           [ 84,  91, 182],\n",
              "           [ 84,  91, 182],\n",
              "           [ 84,  91, 182]],\n",
              "   \n",
              "          [[ 29,  12, 138],\n",
              "           [ 29,  12, 138],\n",
              "           [ 29,  12, 138],\n",
              "           ...,\n",
              "           [ 84,  91, 182],\n",
              "           [ 84,  91, 182],\n",
              "           [ 84,  91, 182]]], dtype=uint8),\n",
              "   'prediction_type': 'ObjectDetectionModel'},\n",
              "  {'x': 156.0,\n",
              "   'y': 332.5,\n",
              "   'width': 66.0,\n",
              "   'height': 181.0,\n",
              "   'confidence': 0.8534121513366699,\n",
              "   'class': '6',\n",
              "   'image_path': array([[[ 34,  36, 118],\n",
              "           [ 34,  36, 118],\n",
              "           [ 34,  36, 118],\n",
              "           ...,\n",
              "           [ 59,  70, 130],\n",
              "           [ 59,  70, 130],\n",
              "           [ 59,  70, 130]],\n",
              "   \n",
              "          [[ 34,  36, 118],\n",
              "           [ 34,  36, 118],\n",
              "           [ 34,  36, 118],\n",
              "           ...,\n",
              "           [ 59,  70, 130],\n",
              "           [ 59,  70, 130],\n",
              "           [ 59,  70, 130]],\n",
              "   \n",
              "          [[ 34,  36, 118],\n",
              "           [ 34,  36, 118],\n",
              "           [ 34,  36, 118],\n",
              "           ...,\n",
              "           [ 59,  70, 130],\n",
              "           [ 59,  70, 130],\n",
              "           [ 59,  70, 130]],\n",
              "   \n",
              "          ...,\n",
              "   \n",
              "          [[ 29,  12, 138],\n",
              "           [ 29,  12, 138],\n",
              "           [ 29,  12, 138],\n",
              "           ...,\n",
              "           [ 84,  91, 182],\n",
              "           [ 84,  91, 182],\n",
              "           [ 84,  91, 182]],\n",
              "   \n",
              "          [[ 29,  12, 138],\n",
              "           [ 29,  12, 138],\n",
              "           [ 29,  12, 138],\n",
              "           ...,\n",
              "           [ 84,  91, 182],\n",
              "           [ 84,  91, 182],\n",
              "           [ 84,  91, 182]],\n",
              "   \n",
              "          [[ 29,  12, 138],\n",
              "           [ 29,  12, 138],\n",
              "           [ 29,  12, 138],\n",
              "           ...,\n",
              "           [ 84,  91, 182],\n",
              "           [ 84,  91, 182],\n",
              "           [ 84,  91, 182]]], dtype=uint8),\n",
              "   'prediction_type': 'ObjectDetectionModel'},\n",
              "  {'x': 214.0,\n",
              "   'y': 337.0,\n",
              "   'width': 70.0,\n",
              "   'height': 192.0,\n",
              "   'confidence': 0.8251022100448608,\n",
              "   'class': '6',\n",
              "   'image_path': array([[[ 34,  36, 118],\n",
              "           [ 34,  36, 118],\n",
              "           [ 34,  36, 118],\n",
              "           ...,\n",
              "           [ 59,  70, 130],\n",
              "           [ 59,  70, 130],\n",
              "           [ 59,  70, 130]],\n",
              "   \n",
              "          [[ 34,  36, 118],\n",
              "           [ 34,  36, 118],\n",
              "           [ 34,  36, 118],\n",
              "           ...,\n",
              "           [ 59,  70, 130],\n",
              "           [ 59,  70, 130],\n",
              "           [ 59,  70, 130]],\n",
              "   \n",
              "          [[ 34,  36, 118],\n",
              "           [ 34,  36, 118],\n",
              "           [ 34,  36, 118],\n",
              "           ...,\n",
              "           [ 59,  70, 130],\n",
              "           [ 59,  70, 130],\n",
              "           [ 59,  70, 130]],\n",
              "   \n",
              "          ...,\n",
              "   \n",
              "          [[ 29,  12, 138],\n",
              "           [ 29,  12, 138],\n",
              "           [ 29,  12, 138],\n",
              "           ...,\n",
              "           [ 84,  91, 182],\n",
              "           [ 84,  91, 182],\n",
              "           [ 84,  91, 182]],\n",
              "   \n",
              "          [[ 29,  12, 138],\n",
              "           [ 29,  12, 138],\n",
              "           [ 29,  12, 138],\n",
              "           ...,\n",
              "           [ 84,  91, 182],\n",
              "           [ 84,  91, 182],\n",
              "           [ 84,  91, 182]],\n",
              "   \n",
              "          [[ 29,  12, 138],\n",
              "           [ 29,  12, 138],\n",
              "           [ 29,  12, 138],\n",
              "           ...,\n",
              "           [ 84,  91, 182],\n",
              "           [ 84,  91, 182],\n",
              "           [ 84,  91, 182]]], dtype=uint8),\n",
              "   'prediction_type': 'ObjectDetectionModel'},\n",
              "  {'x': 324.5,\n",
              "   'y': 346.5,\n",
              "   'width': 99.0,\n",
              "   'height': 215.0,\n",
              "   'confidence': 0.8684791326522827,\n",
              "   'class': 'kk',\n",
              "   'image_path': array([[[ 34,  36, 118],\n",
              "           [ 34,  36, 118],\n",
              "           [ 34,  36, 118],\n",
              "           ...,\n",
              "           [ 59,  70, 130],\n",
              "           [ 59,  70, 130],\n",
              "           [ 59,  70, 130]],\n",
              "   \n",
              "          [[ 34,  36, 118],\n",
              "           [ 34,  36, 118],\n",
              "           [ 34,  36, 118],\n",
              "           ...,\n",
              "           [ 59,  70, 130],\n",
              "           [ 59,  70, 130],\n",
              "           [ 59,  70, 130]],\n",
              "   \n",
              "          [[ 34,  36, 118],\n",
              "           [ 34,  36, 118],\n",
              "           [ 34,  36, 118],\n",
              "           ...,\n",
              "           [ 59,  70, 130],\n",
              "           [ 59,  70, 130],\n",
              "           [ 59,  70, 130]],\n",
              "   \n",
              "          ...,\n",
              "   \n",
              "          [[ 29,  12, 138],\n",
              "           [ 29,  12, 138],\n",
              "           [ 29,  12, 138],\n",
              "           ...,\n",
              "           [ 84,  91, 182],\n",
              "           [ 84,  91, 182],\n",
              "           [ 84,  91, 182]],\n",
              "   \n",
              "          [[ 29,  12, 138],\n",
              "           [ 29,  12, 138],\n",
              "           [ 29,  12, 138],\n",
              "           ...,\n",
              "           [ 84,  91, 182],\n",
              "           [ 84,  91, 182],\n",
              "           [ 84,  91, 182]],\n",
              "   \n",
              "          [[ 29,  12, 138],\n",
              "           [ 29,  12, 138],\n",
              "           [ 29,  12, 138],\n",
              "           ...,\n",
              "           [ 84,  91, 182],\n",
              "           [ 84,  91, 182],\n",
              "           [ 84,  91, 182]]], dtype=uint8),\n",
              "   'prediction_type': 'ObjectDetectionModel'},\n",
              "  {'x': 409.0,\n",
              "   'y': 363.5,\n",
              "   'width': 100.0,\n",
              "   'height': 187.0,\n",
              "   'confidence': 0.9048330187797546,\n",
              "   'class': 'y',\n",
              "   'image_path': array([[[ 34,  36, 118],\n",
              "           [ 34,  36, 118],\n",
              "           [ 34,  36, 118],\n",
              "           ...,\n",
              "           [ 59,  70, 130],\n",
              "           [ 59,  70, 130],\n",
              "           [ 59,  70, 130]],\n",
              "   \n",
              "          [[ 34,  36, 118],\n",
              "           [ 34,  36, 118],\n",
              "           [ 34,  36, 118],\n",
              "           ...,\n",
              "           [ 59,  70, 130],\n",
              "           [ 59,  70, 130],\n",
              "           [ 59,  70, 130]],\n",
              "   \n",
              "          [[ 34,  36, 118],\n",
              "           [ 34,  36, 118],\n",
              "           [ 34,  36, 118],\n",
              "           ...,\n",
              "           [ 59,  70, 130],\n",
              "           [ 59,  70, 130],\n",
              "           [ 59,  70, 130]],\n",
              "   \n",
              "          ...,\n",
              "   \n",
              "          [[ 29,  12, 138],\n",
              "           [ 29,  12, 138],\n",
              "           [ 29,  12, 138],\n",
              "           ...,\n",
              "           [ 84,  91, 182],\n",
              "           [ 84,  91, 182],\n",
              "           [ 84,  91, 182]],\n",
              "   \n",
              "          [[ 29,  12, 138],\n",
              "           [ 29,  12, 138],\n",
              "           [ 29,  12, 138],\n",
              "           ...,\n",
              "           [ 84,  91, 182],\n",
              "           [ 84,  91, 182],\n",
              "           [ 84,  91, 182]],\n",
              "   \n",
              "          [[ 29,  12, 138],\n",
              "           [ 29,  12, 138],\n",
              "           [ 29,  12, 138],\n",
              "           ...,\n",
              "           [ 84,  91, 182],\n",
              "           [ 84,  91, 182],\n",
              "           [ 84,  91, 182]]], dtype=uint8),\n",
              "   'prediction_type': 'ObjectDetectionModel'}],\n",
              " 'image': {'width': 512, 'height': 512}}"
            ]
          },
          "metadata": {},
          "execution_count": 18
        }
      ]
    },
    {
      "cell_type": "code",
      "source": [
        "def r (oo):\n",
        "    if vv == \"a\" :\n",
        "      print(\"أ\")\n",
        "    if vv == \"kk\" :\n",
        "      print(\"ق\")\n",
        "    if vv == \"ss\" :\n",
        "      print(\"ص\")\n",
        "    if vv == \"s\" :\n",
        "      print(\"س\")\n",
        "    if vv == \"tt\" :\n",
        "      print(\"ط\")\n",
        "    if vv == \"o\" :\n",
        "      print(\"ع\")\n",
        "    if vv == \"l\" :\n",
        "      print(\"ل\")\n",
        "    if vv == \"r\" :\n",
        "      print(\"ر\")\n",
        "    if vv == \"n\" :\n",
        "      print(\"ن\")\n",
        "    if vv == 'm' :\n",
        "      print(\"م\")\n",
        "    if vv == \"00\" :\n",
        "      print(\"ه\")\n",
        "    if vv == \"w\" :\n",
        "      print(\"و\")\n",
        "    if vv == \"y\" :\n",
        "      print(\"ى\")\n",
        "    if vv == \"g\" :\n",
        "      print(\"ج\")\n",
        "    if vv == \"d\" :\n",
        "      print(\"د\")\n",
        "    if vv == \"f\" :\n",
        "      print(\"ف\")\n",
        "    if vv == \"1\" :\n",
        "      print(\"١\")\n",
        "    if vv == \"2\" :\n",
        "      print(\"٢\")\n",
        "    if vv == \"3\" :\n",
        "      print(\"٣\")\n",
        "    if vv == \"4\" :\n",
        "      print(\"٤\")\n",
        "    if vv == \"5\" :\n",
        "      print(\"٥\")\n",
        "    if vv == \"6\" :\n",
        "      print(\"٦\")\n",
        "    if vv == \"7\" :\n",
        "      print(\"٧\")\n",
        "    if vv == \"8\" :\n",
        "      print(\"٨\")\n",
        "    if vv == \"9\" :\n",
        "      print(\"٩\")\n",
        "    if vv == \"0\" :\n",
        "      print(\"٠\")"
      ],
      "metadata": {
        "id": "MxfdmWVoeLXs"
      },
      "execution_count": 19,
      "outputs": []
    },
    {
      "cell_type": "code",
      "source": [
        "v = result2.values()\n",
        "o = result2.get('class')\n",
        "z = result2.get('predictions')\n",
        "\n",
        "zz = []\n",
        "\n",
        "for i in range(6):\n",
        "  \n",
        "  # print(z[i].get('class'))\n",
        "  vv = z[i].get('class')\n",
        "  r(vv)\n",
        "  zz.append(str(vv))\n",
        "for mm in range(len(zz)):\n",
        "  with open(\"file.txt\", \"w\") as output:\n",
        "    output.write(str(zz))"
      ],
      "metadata": {
        "id": "Rj3Tte7Te9Ad",
        "colab": {
          "base_uri": "https://localhost:8080/"
        },
        "outputId": "9cd0c9ed-d8b5-42a8-9d1b-6ee0d16a637c"
      },
      "execution_count": 20,
      "outputs": [
        {
          "output_type": "stream",
          "name": "stdout",
          "text": [
            "١\n",
            "٣\n",
            "٦\n",
            "٦\n",
            "ق\n",
            "ى\n"
          ]
        }
      ]
    },
    {
      "cell_type": "code",
      "source": [],
      "metadata": {
        "id": "Ydp1JERXswyt"
      },
      "execution_count": null,
      "outputs": []
    },
    {
      "cell_type": "code",
      "source": [],
      "metadata": {
        "id": "WKJNdT9DswvE"
      },
      "execution_count": null,
      "outputs": []
    }
  ]
}